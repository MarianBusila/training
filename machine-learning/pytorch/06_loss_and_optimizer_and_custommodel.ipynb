{
 "cells": [
  {
   "cell_type": "code",
   "execution_count": 1,
   "metadata": {},
   "outputs": [],
   "source": [
    "import torch\n",
    "import torch.nn as nn"
   ]
  },
  {
   "cell_type": "code",
   "execution_count": 32,
   "metadata": {},
   "outputs": [
    {
     "name": "stdout",
     "output_type": "stream",
     "text": [
      "4 1\n"
     ]
    }
   ],
   "source": [
    "# Typical training procedure\n",
    "\n",
    "# 1) Design model (input, output, forward pass with different layers)\n",
    "# 2) Construct loss and optimizer\n",
    "# 3) Training loop\n",
    "#       - Forward = compute prediction and loss\n",
    "#       - Backward = compute gradients\n",
    "#       - Update weights\n",
    "\n",
    "\n",
    "X = torch.tensor([[1], [2], [3], [4]], dtype=torch.float32)\n",
    "Y = torch.tensor([[2], [4], [6], [8]], dtype=torch.float32)\n",
    "\n",
    "X_test = torch.tensor([5], dtype=torch.float32)\n",
    "\n",
    "# 4 samples, 1 feature\n",
    "n_sample, n_features = X.shape\n",
    "print(n_sample, n_features)\n",
    "\n",
    "input_size = n_features\n",
    "output_size = n_features\n",
    "\n",
    "# model = nn.Linear(input_size, output_size)\n",
    "\n",
    "class LinearRegression(nn.Module):\n",
    "    def __init__(self, input_dim, output_dim):\n",
    "        super(LinearRegression, self).__init__()\n",
    "        # Define layers\n",
    "        self.lin = nn.Linear(input_dim, output_dim)\n",
    "    def forward(self, x):\n",
    "        return self.lin(x)\n",
    "    \n",
    "model = LinearRegression(input_size, output_size)\n"
   ]
  },
  {
   "cell_type": "code",
   "execution_count": 33,
   "metadata": {},
   "outputs": [
    {
     "name": "stdout",
     "output_type": "stream",
     "text": [
      "Prediction before training: f(5) = -4.361\n",
      "epoch 1: w = -0.572, b = 0.7319250702857971, loss = 58.56463623\n",
      "epoch 11: w = 1.190, b = 1.2836995124816895, loss = 1.83438468\n",
      "epoch 21: w = 1.485, b = 1.338010311126709, loss = 0.34805971\n",
      "epoch 31: w = 1.544, b = 1.3133221864700317, loss = 0.29210851\n",
      "epoch 41: w = 1.564, b = 1.2769142389297485, loss = 0.27418274\n",
      "epoch 51: w = 1.578, b = 1.239579439163208, loss = 0.25820002\n",
      "epoch 61: w = 1.591, b = 1.203025460243225, loss = 0.24317083\n",
      "epoch 71: w = 1.603, b = 1.1674995422363281, loss = 0.22901700\n",
      "epoch 81: w = 1.615, b = 1.133014440536499, loss = 0.21568689\n",
      "epoch 91: w = 1.626, b = 1.0995465517044067, loss = 0.20313281\n",
      "epoch 101: w = 1.637, b = 1.067067265510559, loss = 0.19130953\n",
      "epoch 111: w = 1.648, b = 1.0355472564697266, loss = 0.18017432\n",
      "epoch 121: w = 1.658, b = 1.0049583911895752, loss = 0.16968721\n",
      "epoch 131: w = 1.668, b = 0.9752731323242188, loss = 0.15981054\n",
      "epoch 141: w = 1.678, b = 0.9464646577835083, loss = 0.15050869\n",
      "epoch 151: w = 1.688, b = 0.9185070991516113, loss = 0.14174834\n",
      "epoch 161: w = 1.697, b = 0.8913754224777222, loss = 0.13349786\n",
      "epoch 171: w = 1.706, b = 0.8650453090667725, loss = 0.12572762\n",
      "epoch 181: w = 1.714, b = 0.8394927978515625, loss = 0.11840960\n",
      "epoch 191: w = 1.723, b = 0.8146951794624329, loss = 0.11151751\n",
      "Prediction after training: f(5) = 9.444\n"
     ]
    }
   ],
   "source": [
    "print(f'Prediction before training: f(5) = {model(X_test).item():.3f}')\n",
    "\n",
    "# Training\n",
    "learning_rate = 0.01\n",
    "n_iters = 200\n",
    "\n",
    "loss = nn.MSELoss()\n",
    "optimizer = torch.optim.SGD(model.parameters(), lr = learning_rate)\n",
    "\n",
    "for epoch in range(n_iters):\n",
    "    # predict = forward pass\n",
    "    y_pred = model(X)\n",
    "\n",
    "    # loss\n",
    "    l = loss(Y, y_pred)\n",
    "    \n",
    "    # calculate gradients - backward pass\n",
    "    l.backward() # dl/dw\n",
    "\n",
    "    optimizer.step()\n",
    "\n",
    "    optimizer.zero_grad()\n",
    "\n",
    "    if epoch % 10 == 0:\n",
    "        [w, b] = model.parameters()\n",
    "        print(f'epoch {epoch+1}: w = {w[0][0].item():.3f}, b = {b[0].item()}, loss = {l:.8f}')\n",
    "     \n",
    "print(f'Prediction after training: f(5) = {model(X_test).item():.3f}')"
   ]
  }
 ],
 "metadata": {
  "kernelspec": {
   "display_name": "venv",
   "language": "python",
   "name": "python3"
  },
  "language_info": {
   "codemirror_mode": {
    "name": "ipython",
    "version": 3
   },
   "file_extension": ".py",
   "mimetype": "text/x-python",
   "name": "python",
   "nbconvert_exporter": "python",
   "pygments_lexer": "ipython3",
   "version": "3.12.6"
  }
 },
 "nbformat": 4,
 "nbformat_minor": 2
}
