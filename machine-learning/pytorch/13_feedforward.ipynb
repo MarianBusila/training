{
 "cells": [
  {
   "cell_type": "code",
   "execution_count": 11,
   "metadata": {},
   "outputs": [],
   "source": [
    "import torch\n",
    "import torch.nn as nn\n",
    "import torchvision\n",
    "import torchvision.transforms as transforms\n",
    "import matplotlib.pyplot as plt"
   ]
  },
  {
   "cell_type": "code",
   "execution_count": 12,
   "metadata": {},
   "outputs": [],
   "source": [
    "device = torch.device('cuda' if torch.cuda.is_available() else 'cpu')"
   ]
  },
  {
   "cell_type": "code",
   "execution_count": 13,
   "metadata": {},
   "outputs": [],
   "source": [
    "# hyper parameters\n",
    "input_size = 784 # 28 x 28\n",
    "hideen_size = 100\n",
    "num_classes = 10\n",
    "num_epochs = 5\n",
    "batch_size = 100\n",
    "learning_rate = 0.001"
   ]
  },
  {
   "cell_type": "code",
   "execution_count": 14,
   "metadata": {},
   "outputs": [
    {
     "name": "stdout",
     "output_type": "stream",
     "text": [
      "torch.Size([60000, 28, 28])\n",
      "torch.Size([10000, 28, 28])\n",
      "torch.Size([100, 1, 28, 28]) torch.Size([100])\n"
     ]
    },
    {
     "data": {
      "image/png": "[encoded data removed]",
      "text/plain": [
       "<Figure size 640x480 with 6 Axes>"
      ]
     },
     "metadata": {},
     "output_type": "display_data"
    }
   ],
   "source": [
    "train_dataset = torchvision.datasets.MNIST(root='./data', train=True, transform=transforms.ToTensor(), download=True)\n",
    "test_dataset = torchvision.datasets.MNIST(root='./data', train=False, transform=transforms.ToTensor())\n",
    "# print the size of the train_dataset.\n",
    "print(train_dataset.data.size())\n",
    "print(test_dataset.data.size())\n",
    "\n",
    "\n",
    "train_loader = torch.utils.data.DataLoader(dataset=train_dataset, batch_size=batch_size, shuffle=True)\n",
    "test_loader = torch.utils.data.DataLoader(dataset=test_dataset, batch_size=batch_size, shuffle=False)\n",
    "\n",
    "examples = iter(train_loader)\n",
    "samples, labels = next(examples)\n",
    "\n",
    "print(samples.shape, labels.shape)\n",
    "\n",
    "for i in range(6):\n",
    "    plt.subplot(2, 3, i + 1)\n",
    "    plt.imshow(samples[i][0], cmap='gray')\n",
    "    \n",
    "plt.show()"
   ]
  },
  {
   "cell_type": "code",
   "execution_count": 15,
   "metadata": {},
   "outputs": [
    {
     "name": "stdout",
     "output_type": "stream",
     "text": [
      "epoch 1/5 step 100/600, loss = 2.2531\n",
      "epoch 1/5 step 200/600, loss = 1.8215\n",
      "epoch 1/5 step 300/600, loss = 1.4603\n",
      "epoch 1/5 step 400/600, loss = 1.2436\n",
      "epoch 1/5 step 500/600, loss = 0.9960\n",
      "epoch 1/5 step 600/600, loss = 1.4769\n",
      "epoch 2/5 step 100/600, loss = 1.7393\n",
      "epoch 2/5 step 200/600, loss = 1.2213\n",
      "epoch 2/5 step 300/600, loss = 1.2690\n",
      "epoch 2/5 step 400/600, loss = 1.0843\n",
      "epoch 2/5 step 500/600, loss = 0.9715\n",
      "epoch 2/5 step 600/600, loss = 0.9626\n",
      "epoch 3/5 step 100/600, loss = 1.0517\n",
      "epoch 3/5 step 200/600, loss = 1.1084\n",
      "epoch 3/5 step 300/600, loss = 1.2624\n",
      "epoch 3/5 step 400/600, loss = 1.2260\n",
      "epoch 3/5 step 500/600, loss = 1.1254\n",
      "epoch 3/5 step 600/600, loss = 1.0624\n",
      "epoch 4/5 step 100/600, loss = 1.2723\n",
      "epoch 4/5 step 200/600, loss = 1.2671\n",
      "epoch 4/5 step 300/600, loss = 1.0968\n",
      "epoch 4/5 step 400/600, loss = 0.9730\n",
      "epoch 4/5 step 500/600, loss = 1.3389\n",
      "epoch 4/5 step 600/600, loss = 1.1040\n",
      "epoch 5/5 step 100/600, loss = 1.1954\n",
      "epoch 5/5 step 200/600, loss = 1.1841\n",
      "epoch 5/5 step 300/600, loss = 1.2326\n",
      "epoch 5/5 step 400/600, loss = 1.5678\n",
      "epoch 5/5 step 500/600, loss = 1.4191\n",
      "epoch 5/5 step 600/600, loss = 1.0970\n"
     ]
    }
   ],
   "source": [
    "class NeuralNet(nn.Module):\n",
    "    def __init__(self, input_size, hidden_size, num_classes):\n",
    "        super(NeuralNet, self).__init__()\n",
    "        self.l1 = nn.Linear(input_size, hidden_size)\n",
    "        self.relu = nn.ReLU()\n",
    "        self.l2 = nn.Linear(hidden_size, num_classes)\n",
    "        \n",
    "    def forward(self, x):\n",
    "        out = self.l1(x)\n",
    "        out = self.relu(out)\n",
    "        outp = self.l2(out)\n",
    "        return out\n",
    "    \n",
    "model = NeuralNet(input_size, hideen_size, num_classes).to(device)\n",
    "\n",
    "## loss and optimizer\n",
    "criterion = nn.CrossEntropyLoss()\n",
    "optimizer = torch.optim.Adam(model.parameters(), lr=learning_rate)\n",
    "\n",
    "## training loop\n",
    "n_total_steps = len(train_loader)\n",
    "for epoch in range(num_epochs):\n",
    "    for i, (images, labels) in enumerate(train_loader):\n",
    "        # 100, 1, 28, 28\n",
    "        # 100, 784\n",
    "        images = images.reshape(-1, 28*28).to(device)\n",
    "        labels = labels.to(device)\n",
    "        \n",
    "        # forward\n",
    "        outputs = model(images)\n",
    "        loss = criterion(outputs, labels)\n",
    "        \n",
    "        # backward\n",
    "        optimizer.zero_grad()\n",
    "        loss.backward()\n",
    "        optimizer.step()\n",
    "        \n",
    "        if (i+1) % 100 == 0:\n",
    "            print(f'epoch {epoch+1}/{num_epochs} step {i+1}/{n_total_steps}, loss = {loss.item():.4f}')"
   ]
  },
  {
   "cell_type": "code",
   "execution_count": 16,
   "metadata": {},
   "outputs": [
    {
     "name": "stdout",
     "output_type": "stream",
     "text": [
      "Accuracy = 0.72\n"
     ]
    }
   ],
   "source": [
    "# test\n",
    "with torch.no_grad():\n",
    "    n_correct = 0\n",
    "    n_samples = 0\n",
    "    for images, labels in test_loader:\n",
    "        images = images.reshape(-1, 28*28).to(device)\n",
    "        labels = labels.to(device)        \n",
    "        \n",
    "        outputs = model(images)\n",
    "        \n",
    "        # value, index\n",
    "        _, predictions = torch.max(outputs, 1)\n",
    "        n_samples += labels.shape[0]\n",
    "        n_correct = (predictions == labels).sum().item()\n",
    "        \n",
    "acc = 100.0 * n_correct / n_samples\n",
    "print(f'Accuracy = {acc}')        "
   ]
  },
  {
   "cell_type": "code",
   "execution_count": null,
   "metadata": {},
   "outputs": [],
   "source": []
  }
 ],
 "metadata": {
  "kernelspec": {
   "display_name": "venv",
   "language": "python",
   "name": "python3"
  },
  "language_info": {
   "codemirror_mode": {
    "name": "ipython",
    "version": 3
   },
   "file_extension": ".py",
   "mimetype": "text/x-python",
   "name": "python",
   "nbconvert_exporter": "python",
   "pygments_lexer": "ipython3",
   "version": "3.12.6"
  }
 },
 "nbformat": 4,
 "nbformat_minor": 2
}
