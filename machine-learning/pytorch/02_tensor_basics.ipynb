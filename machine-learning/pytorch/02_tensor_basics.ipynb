{
 "cells": [
  {
   "cell_type": "code",
   "execution_count": 2,
   "metadata": {},
   "outputs": [],
   "source": [
    "import torch"
   ]
  },
  {
   "cell_type": "code",
   "execution_count": 4,
   "metadata": {},
   "outputs": [
    {
     "name": "stdout",
     "output_type": "stream",
     "text": [
      "tensor([0.])\n",
      "tensor([0.0000, 1.8750, 0.0000])\n",
      "tensor([[-3.0314e+00,  9.9632e-43,  0.0000e+00],\n",
      "        [ 0.0000e+00,  0.0000e+00,  0.0000e+00]])\n",
      "tensor([[[-3.0470e+00,  9.9632e-43,  0.0000e+00],\n",
      "         [ 0.0000e+00,  0.0000e+00,  0.0000e+00]],\n",
      "\n",
      "        [[ 0.0000e+00,  0.0000e+00,  0.0000e+00],\n",
      "         [ 0.0000e+00,  0.0000e+00,  0.0000e+00]]])\n",
      "tensor([[0.3710, 0.6302, 0.3466],\n",
      "        [0.9654, 0.9089, 0.1348],\n",
      "        [0.3275, 0.9063, 0.1241],\n",
      "        [0.1894, 0.6988, 0.4798],\n",
      "        [0.7693, 0.3859, 0.2265]])\n",
      "tensor([[0., 0., 0.],\n",
      "        [0., 0., 0.],\n",
      "        [0., 0., 0.],\n",
      "        [0., 0., 0.],\n",
      "        [0., 0., 0.]])\n",
      "tensor([[1., 1., 1.],\n",
      "        [1., 1., 1.],\n",
      "        [1., 1., 1.],\n",
      "        [1., 1., 1.],\n",
      "        [1., 1., 1.]])\n",
      "torch.Size([5, 3])\n",
      "torch.float32\n"
     ]
    }
   ],
   "source": [
    "x = torch.empty(1) # scalar\n",
    "print(x)\n",
    "\n",
    "x = torch.empty(3) # vector\n",
    "print(x)\n",
    "\n",
    "x = torch.empty(2, 3) # matrix\n",
    "print(x)\n",
    "\n",
    "x = torch.empty(2, 2, 3) # 3D tensor\n",
    "print(x)\n",
    "\n",
    "x = torch.rand(5, 3)\n",
    "print(x)\n",
    "\n",
    "x = torch.zeros(5, 3)\n",
    "print(x)\n",
    "\n",
    "x = torch.ones(5, 3)\n",
    "print(x)\n",
    "\n",
    "# check size\n",
    "print(x.size())\n",
    "\n",
    "print(x.dtype)"
   ]
  },
  {
   "cell_type": "code",
   "execution_count": 5,
   "metadata": {},
   "outputs": [
    {
     "name": "stdout",
     "output_type": "stream",
     "text": [
      "torch.int32\n"
     ]
    }
   ],
   "source": [
    "x = torch.ones(5, 3, dtype=torch.int)\n",
    "print(x.dtype)"
   ]
  },
  {
   "cell_type": "code",
   "execution_count": 6,
   "metadata": {},
   "outputs": [
    {
     "name": "stdout",
     "output_type": "stream",
     "text": [
      "torch.Size([2])\n"
     ]
    }
   ],
   "source": [
    "# construct from data\n",
    "x = torch.tensor([5.5, 3])\n",
    "print(x.size())"
   ]
  },
  {
   "cell_type": "code",
   "execution_count": 7,
   "metadata": {},
   "outputs": [
    {
     "name": "stdout",
     "output_type": "stream",
     "text": [
      "tensor([9., 5.])\n",
      "tensor([9., 5.])\n"
     ]
    }
   ],
   "source": [
    "x = torch.tensor([5.5, 3])\n",
    "y = torch.tensor([3.5, 2])\n",
    "print(x + y)\n",
    "print(torch.add(x, y))"
   ]
  },
  {
   "cell_type": "code",
   "execution_count": 8,
   "metadata": {},
   "outputs": [
    {
     "name": "stdout",
     "output_type": "stream",
     "text": [
      "tensor([[0.2249, 0.4663, 0.7224],\n",
      "        [0.0114, 0.5938, 0.7813],\n",
      "        [0.3966, 0.9917, 0.0441],\n",
      "        [0.2327, 0.2012, 0.5586],\n",
      "        [0.9607, 0.3823, 0.7976]])\n",
      "tensor([0.2249, 0.0114, 0.3966, 0.2327, 0.9607])\n",
      "tensor([0.0114, 0.5938, 0.7813])\n",
      "tensor(0.5938)\n"
     ]
    }
   ],
   "source": [
    "# slicing\n",
    "x = torch.rand(5, 3)\n",
    "print(x)\n",
    "print(x[:, 0]) # all rows, first column\n",
    "print(x[1, :]) # second row, all columns\n",
    "print(x[1, 1]) # second row, second column"
   ]
  },
  {
   "cell_type": "code",
   "execution_count": 11,
   "metadata": {},
   "outputs": [
    {
     "name": "stdout",
     "output_type": "stream",
     "text": [
      "torch.Size([4, 4]) torch.Size([16]) torch.Size([2, 8])\n",
      "tensor([[0.1929, 0.5570, 0.0649, 0.3494],\n",
      "        [0.6478, 0.1984, 0.5509, 0.3244],\n",
      "        [0.8092, 0.4388, 0.2192, 0.3866],\n",
      "        [0.0306, 0.9576, 0.5113, 0.7404]])\n",
      "tensor([0.1929, 0.5570, 0.0649, 0.3494, 0.6478, 0.1984, 0.5509, 0.3244, 0.8092,\n",
      "        0.4388, 0.2192, 0.3866, 0.0306, 0.9576, 0.5113, 0.7404])\n",
      "tensor([[0.1929, 0.5570, 0.0649, 0.3494, 0.6478, 0.1984, 0.5509, 0.3244],\n",
      "        [0.8092, 0.4388, 0.2192, 0.3866, 0.0306, 0.9576, 0.5113, 0.7404]])\n"
     ]
    }
   ],
   "source": [
    "# reshape with view\n",
    "x = torch.rand(4, 4)\n",
    "y = x.view(16)\n",
    "z = x.view(-1, 8) # -1 means infer from other dimensions\n",
    "print(x.size(), y.size(), z.size())\n",
    "print(x)\n",
    "print(y)\n",
    "print(z)"
   ]
  },
  {
   "cell_type": "code",
   "execution_count": 12,
   "metadata": {},
   "outputs": [
    {
     "name": "stdout",
     "output_type": "stream",
     "text": [
      "[1. 1. 1. 1. 1.]\n",
      "tensor([1., 1., 1., 1., 1.], dtype=torch.float64)\n"
     ]
    }
   ],
   "source": [
    "# convert from numpy\n",
    "import numpy as np\n",
    "a = np.ones(5)\n",
    "b = torch.from_numpy(a)\n",
    "print(a)\n",
    "print(b)\n",
    "\n"
   ]
  },
  {
   "cell_type": "code",
   "execution_count": 13,
   "metadata": {},
   "outputs": [
    {
     "name": "stdout",
     "output_type": "stream",
     "text": [
      "tensor([1., 1., 1., 1., 1.])\n",
      "[1. 1. 1. 1. 1.]\n"
     ]
    }
   ],
   "source": [
    "# convert to numpy \n",
    "a= torch.ones(5)\n",
    "b = a.numpy()\n",
    "print(a)\n",
    "print(b)"
   ]
  },
  {
   "cell_type": "code",
   "execution_count": null,
   "metadata": {},
   "outputs": [
    {
     "name": "stdout",
     "output_type": "stream",
     "text": [
      "tensor([2., 2., 2., 2., 2.])\n",
      "[2. 2. 2. 2. 2.]\n"
     ]
    }
   ],
   "source": [
    "# both share memory\n",
    "a += 1\n",
    "print(a)\n",
    "print(b)"
   ]
  },
  {
   "cell_type": "code",
   "execution_count": 15,
   "metadata": {},
   "outputs": [
    {
     "name": "stdout",
     "output_type": "stream",
     "text": [
      "tensor([[1.1929, 1.5570, 1.0649, 1.3494],\n",
      "        [1.6478, 1.1984, 1.5509, 1.3244],\n",
      "        [1.8092, 1.4388, 1.2192, 1.3866],\n",
      "        [1.0306, 1.9576, 1.5113, 1.7404]], device='cuda:0')\n",
      "tensor([[1.1929, 1.5570, 1.0649, 1.3494],\n",
      "        [1.6478, 1.1984, 1.5509, 1.3244],\n",
      "        [1.8092, 1.4388, 1.2192, 1.3866],\n",
      "        [1.0306, 1.9576, 1.5113, 1.7404]], dtype=torch.float64)\n"
     ]
    }
   ],
   "source": [
    "# by default, tensors are created on CPU\n",
    "# to create on GPU\n",
    "if torch.cuda.is_available():\n",
    "    device = torch.device(\"cuda\")\n",
    "    y = torch.ones_like(x, device=device) # create on GPU\n",
    "    x = x.to(device)\n",
    "    z = x + y\n",
    "    print(z)\n",
    "    print(z.to(\"cpu\", torch.double))"
   ]
  },
  {
   "cell_type": "code",
   "execution_count": null,
   "metadata": {},
   "outputs": [
    {
     "name": "stdout",
     "output_type": "stream",
     "text": [
      "tensor([[1., 1.],\n",
      "        [1., 1.]], requires_grad=True)\n"
     ]
    }
   ],
   "source": [
    "# let torch know that we need to calculate gradients\n",
    "x = torch.ones(2, 2, requires_grad=True)\n",
    "print(x)"
   ]
  }
 ],
 "metadata": {
  "kernelspec": {
   "display_name": "venv",
   "language": "python",
   "name": "python3"
  },
  "language_info": {
   "codemirror_mode": {
    "name": "ipython",
    "version": 3
   },
   "file_extension": ".py",
   "mimetype": "text/x-python",
   "name": "python",
   "nbconvert_exporter": "python",
   "pygments_lexer": "ipython3",
   "version": "3.12.6"
  }
 },
 "nbformat": 4,
 "nbformat_minor": 2
}
