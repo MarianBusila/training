{
 "cells": [
  {
   "cell_type": "code",
   "execution_count": null,
   "metadata": {},
   "outputs": [],
   "source": [
    "! pip install numpy pandas matplotlib seaborn scikit-learn statsmodels xgboost lightgbm tensorflow keras"
   ]
  },
  {
   "cell_type": "code",
   "execution_count": null,
   "metadata": {},
   "outputs": [],
   "source": [
    "# load data\n",
    "import pandas as pd\n",
    "url = \"https://archive.ics.uci.edu/static/public/235/individual+household+electric+power+consumption.zip\"\n",
    "df = pd.read_csv(url, sep=\";\", parse_dates={\"datetime\": [\"Date\", \"Time\"]}, infer_datetime_format=True, low_memory=False, na_values=['nan', '?'])\n",
    "df.set_index(\"datetime\", inplace=True)\n",
    "print(df.head())"
   ]
  },
  {
   "cell_type": "code",
   "execution_count": null,
   "metadata": {},
   "outputs": [],
   "source": [
    "# inspect features\n",
    "print(df.info())\n",
    "print(df.describe())"
   ]
  },
  {
   "cell_type": "code",
   "execution_count": null,
   "metadata": {},
   "outputs": [],
   "source": [
    "# visualize data\n",
    "import matplotlib.pyplot as plt\n",
    "df.plot(y = [\"Global_active_power\", \"Voltage\"], subplots=True, figsize=(10, 8))\n",
    "plt.show()"
   ]
  },
  {
   "cell_type": "code",
   "execution_count": 40,
   "metadata": {},
   "outputs": [],
   "source": [
    "# preprocess data\n",
    "\n",
    "# fill missing values\n",
    "df.fillna(df.mean(), inplace=True)\n",
    "\n",
    "# normalize data\n",
    "from sklearn.preprocessing import MinMaxScaler\n",
    "scaler = MinMaxScaler()\n",
    "scaled_df = pd.DataFrame(scaler.fit_transform(df), columns=df.columns, index=df.index)\n",
    "\n",
    "# create lag features\n",
    "for lag in range(1, 4):\n",
    "    scaled_df[f\"lag_{lag}\"] = scaled_df[\"Global_active_power\"].shift(lag)\n",
    "scaled_df.dropna(inplace=True)"
   ]
  },
  {
   "cell_type": "code",
   "execution_count": 41,
   "metadata": {},
   "outputs": [],
   "source": [
    "# split data into train and test sets\n",
    "train_size = int(len(scaled_df) * 0.8)\n",
    "train, test = scaled_df[:train_size], scaled_df[train_size:]\n",
    "\n",
    "target = \"Global_active_power\"\n",
    "X_train, y_train = train.drop(target, axis=1), train[target]\n",
    "X_test, y_test = test.drop(target, axis=1), test[target]"
   ]
  },
  {
   "cell_type": "code",
   "execution_count": 42,
   "metadata": {},
   "outputs": [],
   "source": [
    "# choose a forecasting model like XGBoost or LightGBM\n",
    "import xgboost as xgb\n",
    "model = xgb.XGBRegressor()\n",
    "model.fit(X_train, y_train)\n",
    "\n",
    "predictions_xgb = model.predict(X_test)"
   ]
  },
  {
   "cell_type": "code",
   "execution_count": null,
   "metadata": {},
   "outputs": [],
   "source": [
    "# or choose a deep learning model like LSTM\n",
    "\n",
    "import numpy as np\n",
    "\n",
    "def create_sequences(data, target, sequence_length=3):\n",
    "    X, y = [], []\n",
    "    for i in range(len(data) - sequence_length):\n",
    "        X.append(data.iloc[i:i+sequence_length].values)\n",
    "        y.append(target.iloc[i+sequence_length])\n",
    "    return np.array(X), np.array(y)\n",
    "\n",
    "sequence_length = 3\n",
    "X_train_seq, y_train_seq = create_sequences(train, train[target], sequence_length)\n",
    "X_test_seq, y_test_seq = create_sequences(test, test[target], sequence_length)\n",
    "\n",
    "# build the LTSM model\n",
    "from keras.models import Sequential\n",
    "from keras.layers import LSTM, Dense\n",
    "\n",
    "model = Sequential([\n",
    "    LSTM(50, activation='relu', input_shape=(X_train_seq.shape[1], X_train_seq.shape[2])),\n",
    "    Dense(1)\n",
    "])\n",
    "model.compile(optimizer='adam', loss='mse')\n",
    "model.fit(X_train_seq, y_train_seq, epochs=20, batch_size=32)\n",
    "\n",
    "predictions_lstm = model.predict(X_test_seq)"
   ]
  },
  {
   "cell_type": "code",
   "execution_count": null,
   "metadata": {},
   "outputs": [],
   "source": [
    "# evaluate the models\n",
    "from sklearn.metrics import mean_squared_error, mean_absolute_error\n",
    "\n",
    "print(X_test.shape, y_test.shape, predictions_xgb.shape, predictions_lstm.shape)\n",
    "\n",
    "mse_xgb = mean_squared_error(y_test, predictions_xgb)\n",
    "mae_xgb = mean_absolute_error(y_test, predictions_xgb)\n",
    "print(f\"XGBoost -> MSE: {mse_xgb}, MAE: {mae_xgb}\")\n",
    "\n",
    "mse_lstm = mean_squared_error(y_test_seq, predictions_lstm)\n",
    "mae_lstm = mean_absolute_error(y_test_seq, predictions_lstm)\n",
    "print(f\"LSTM    -> MSE: {mse_lstm}, MAE: {mae_lstm}\")"
   ]
  },
  {
   "cell_type": "code",
   "execution_count": null,
   "metadata": {},
   "outputs": [],
   "source": [
    "# vizualize the predictions\n",
    "\n",
    "# Convert predictions to a Pandas Series with the same index as y_test\n",
    "# Slice y_test to match the length of predictions\n",
    "y_test_aligned = y_test.iloc[:len(predictions_lstm)]\n",
    "\n",
    "predictions_xgb_series = pd.Series(predictions_xgb, index=y_test.index)\n",
    "predictions_lstm_series = pd.Series(predictions_lstm.flatten(), index=y_test_aligned.index)\n",
    "\n",
    "# Select a specific time range, since the data is too large to plot\n",
    "start = 0\n",
    "end = 5000\n",
    "plt.figure(figsize=(15, 6))\n",
    "plt.plot(y_test[start:end], label=\"actual\", alpha=0.7)\n",
    "plt.plot(predictions_xgb_series[start:end], label=\"XGBoost\", alpha=0.7)\n",
    "plt.plot(predictions_lstm_series[start:end], label=\"LSTM\", alpha=0.7)\n",
    "plt.legend()\n",
    "plt.show()"
   ]
  }
 ],
 "metadata": {
  "kernelspec": {
   "display_name": "venv",
   "language": "python",
   "name": "python3"
  },
  "language_info": {
   "codemirror_mode": {
    "name": "ipython",
    "version": 3
   },
   "file_extension": ".py",
   "mimetype": "text/x-python",
   "name": "python",
   "nbconvert_exporter": "python",
   "pygments_lexer": "ipython3",
   "version": "3.12.6"
  }
 },
 "nbformat": 4,
 "nbformat_minor": 2
}
