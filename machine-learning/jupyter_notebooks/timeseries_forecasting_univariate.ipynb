{
 "cells": [
  {
   "cell_type": "code",
   "execution_count": null,
   "metadata": {},
   "outputs": [],
   "source": [
    "! pip install pandas numpy matplotlib seaborn statsmodels scikit-learn prophet"
   ]
  },
  {
   "cell_type": "code",
   "execution_count": null,
   "metadata": {},
   "outputs": [],
   "source": [
    "# load data\n",
    "import pandas as pd\n",
    "\n",
    "url = 'https://raw.githubusercontent.com/jbrownlee/Datasets/master/airline-passengers.csv'\n",
    "df = pd.read_csv(url, parse_dates=['Month'], index_col='Month')\n",
    "print(df.head())"
   ]
  },
  {
   "cell_type": "code",
   "execution_count": null,
   "metadata": {},
   "outputs": [],
   "source": [
    "import matplotlib.pyplot as plt\n",
    "plt.plot(df.index, df['Passengers'])\n",
    "plt.title('Airline Passengers Over Time')\n",
    "plt.xlabel('Date')\n",
    "plt.ylabel('Passengers')\n",
    "plt.show()"
   ]
  },
  {
   "cell_type": "code",
   "execution_count": null,
   "metadata": {},
   "outputs": [],
   "source": [
    "# prepare data\n",
    "print(df.isnull().sum())\n",
    "df.fillna(method='ffill', inplace=True)"
   ]
  },
  {
   "cell_type": "code",
   "execution_count": null,
   "metadata": {},
   "outputs": [],
   "source": [
    "# analyze trends and seasonality\n",
    "from statsmodels.tsa.seasonal import seasonal_decompose\n",
    "decomposition = seasonal_decompose(df['Passengers'], model='additive')\n",
    "decomposition.plot()\n",
    "plt.show()"
   ]
  },
  {
   "cell_type": "code",
   "execution_count": 7,
   "metadata": {},
   "outputs": [],
   "source": [
    "# split data\n",
    "train = df.iloc[:-12]\n",
    "test = df.iloc[-12:]"
   ]
  },
  {
   "cell_type": "code",
   "execution_count": null,
   "metadata": {},
   "outputs": [],
   "source": [
    "# apply ARIMA (AutoRegressive Integrated Moving Average) model\n",
    "from statsmodels.tsa.arima.model import ARIMA\n",
    "model = ARIMA(train, order=(5,1,0))\n",
    "model_fit = model.fit()\n",
    "print(model_fit.summary())\n",
    "\n",
    "# make predictions\n",
    "forecast = model_fit.forecast(steps=12)\n",
    "plt.plot(test.index, test['Passengers'], label='Actual')\n",
    "plt.plot(test.index, forecast, label='Forecast')\n",
    "plt.legend()\n",
    "plt.show()\n"
   ]
  },
  {
   "cell_type": "code",
   "execution_count": null,
   "metadata": {},
   "outputs": [],
   "source": [
    "# use Prophet for handling seasonality and trends\n",
    "from prophet import Prophet\n",
    "df.reset_index(inplace=True)\n",
    "df.rename(columns={'Month': 'ds', 'Passengers': 'y'}, inplace=True)\n",
    "model = Prophet()\n",
    "model.fit(df[:-12])\n",
    "\n",
    "future = model.make_future_dataframe(periods=12, freq='M')\n",
    "forecast = model.predict(future)\n",
    "model.plot(forecast)\n",
    "plt.show()"
   ]
  },
  {
   "cell_type": "code",
   "execution_count": null,
   "metadata": {},
   "outputs": [],
   "source": [
    "# calculate evaluation metrics\n",
    "from sklearn.metrics import mean_squared_error, mean_absolute_error\n",
    "\n",
    "mae = mean_absolute_error(test['Passengers'], forecast['yhat'].tail(12))\n",
    "mse = mean_squared_error(test['Passengers'], forecast['yhat'].tail(12))\n",
    "print(f'Mean Absolute Error: {mae}')\n",
    "print(f'Mean Squared Error: {mse}')"
   ]
  }
 ],
 "metadata": {
  "kernelspec": {
   "display_name": "Python 3",
   "language": "python",
   "name": "python3"
  },
  "language_info": {
   "codemirror_mode": {
    "name": "ipython",
    "version": 3
   },
   "file_extension": ".py",
   "mimetype": "text/x-python",
   "name": "python",
   "nbconvert_exporter": "python",
   "pygments_lexer": "ipython3",
   "version": "3.12.6"
  }
 },
 "nbformat": 4,
 "nbformat_minor": 2
}
